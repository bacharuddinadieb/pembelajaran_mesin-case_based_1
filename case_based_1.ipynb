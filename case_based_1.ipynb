{
 "cells": [
  {
   "cell_type": "code",
   "execution_count": 1,
   "metadata": {},
   "outputs": [
    {
     "name": "stdout",
     "output_type": "stream",
     "text": [
      "numpy: 1.22.3\n",
      "pandas: 1.4.1\n",
      "Tensorflow/Keras: 2.10.0\n",
      "sklearn: 1.1.1\n",
      "plotly: 5.11.0\n"
     ]
    }
   ],
   "source": [
    "# numpy & pandas, berguna untuk manipulasi data\n",
    "import numpy as np\n",
    "import pandas as pd\n",
    "\n",
    "# Tensorflow & Keras, berguna untuk pembuatan NN layer\n",
    "from keras.layers import Dense\n",
    "from keras import Input\n",
    "# untuk pembuatan linear stack layer untuk NN\n",
    "from keras.models import Sequential\n",
    "from tensorflow import keras  # untuk pembuatan NN\n",
    "\n",
    "# sklearn, berguna untuk penyiapan data model dan evaluasi model\n",
    "import sklearn\n",
    "from sklearn.metrics import classification_report\n",
    "from sklearn.model_selection import train_test_split\n",
    "\n",
    "# plotly, berguna untuk menampilkan graph\n",
    "import plotly\n",
    "import plotly.graph_objects as go\n",
    "import plotly.express as px\n",
    "\n",
    "# mencetak versinyo\n",
    "print('numpy: %s' % np.__version__)\n",
    "print('pandas: %s' % pd.__version__)\n",
    "print('Tensorflow/Keras: %s' % keras.__version__)\n",
    "print('sklearn: %s' % sklearn.__version__)\n",
    "print('plotly: %s' % plotly.__version__)\n"
   ]
  },
  {
   "cell_type": "code",
   "execution_count": 11,
   "metadata": {},
   "outputs": [
    {
     "name": "stderr",
     "output_type": "stream",
     "text": [
      "/var/folders/0g/zr7tcsk57j96szfk1vh9mk4c0000gn/T/ipykernel_1563/2977552045.py:8: FutureWarning: Dropping of nuisance columns in DataFrame reductions (with 'numeric_only=None') is deprecated; in a future version this will raise TypeError.  Select only valid columns before calling the reduction.\n",
      "  df_audit_data = df_audit_data.fillna(df_audit_data.mean())\n"
     ]
    }
   ],
   "source": [
    "# Read file csv\n",
    "df_audit_data = pd.read_csv('./data/audit_risk.csv', encoding='utf-8')\n",
    "\n",
    "# Menghapus data kolom risk yang null\n",
    "df_audit_data = df_audit_data[pd.isnull(df_audit_data['Risk']) == False]\n",
    "\n",
    "# Mengisi kolom yang kosong dengan data rata - rata\n",
    "df_audit_data = df_audit_data.fillna(df_audit_data.mean())"
   ]
  }
 ],
 "metadata": {
  "kernelspec": {
   "display_name": "Python 3.10.4 ('ai')",
   "language": "python",
   "name": "python3"
  },
  "language_info": {
   "codemirror_mode": {
    "name": "ipython",
    "version": 3
   },
   "file_extension": ".py",
   "mimetype": "text/x-python",
   "name": "python",
   "nbconvert_exporter": "python",
   "pygments_lexer": "ipython3",
   "version": "3.10.6"
  },
  "orig_nbformat": 4,
  "vscode": {
   "interpreter": {
    "hash": "ef5686ffe3413b34dce5f74af4c4afca640aebb8307c6290fa80775729fe9855"
   }
  }
 },
 "nbformat": 4,
 "nbformat_minor": 2
}
